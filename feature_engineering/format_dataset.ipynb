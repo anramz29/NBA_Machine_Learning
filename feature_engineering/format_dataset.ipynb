{
 "cells": [
  {
   "cell_type": "code",
   "execution_count": 9,
   "metadata": {
    "ExecuteTime": {
     "end_time": "2024-07-04T15:38:51.365852Z",
     "start_time": "2024-07-04T15:38:49.761051Z"
    },
    "collapsed": false
   },
   "outputs": [],
   "source": [
    "import pandas as pd\n",
    "import matplotlib.pyplot as plt\n",
    "import matplotlib.pyplot as plt\n",
    "from sklearn.metrics import accuracy_score, f1_score, roc_curve, auc\n",
    "plt.style.use('fivethirtyeight')\n",
    "import sqlite3\n",
    "\n",
    "conn = sqlite3.connect('/Users/adrian/Desktop/NBA_Machine_Learning/data/dataset.sqlite')\n",
    "\n",
    "# Use double quotes around the table name\n",
    "df = pd.read_sql_query('SELECT * FROM \"dataset_2012-24_new\"', conn)\n",
    "\n",
    "# close the connection\n",
    "conn.close()\n",
    "\n",
    "# drop the index column\n",
    "df.drop('index', axis=1, inplace=True)\n",
    "# change 'Home-Team-Win' to 'Target'\n",
    "df = df.rename(columns={'Home-Team-Win': 'Target'})\n",
    "\n",
    "\n",
    "# save orginal data\n",
    "df_original = df.copy()\n",
    "df_original.to_parquet(\"/Users/adrian/Desktop/NBA_Machine_Learning/data/original_df.parquet\")\n",
    "\n"
   ]
  },
  {
   "cell_type": "markdown",
   "metadata": {
    "collapsed": false
   },
   "source": [
    "# Data Cleaning"
   ]
  },
  {
   "cell_type": "code",
   "execution_count": 10,
   "metadata": {
    "ExecuteTime": {
     "end_time": "2024-07-04T15:38:51.620083Z",
     "start_time": "2024-07-04T15:38:51.366435Z"
    }
   },
   "outputs": [
    {
     "name": "stdout",
     "output_type": "stream",
     "text": [
      "15115\n"
     ]
    }
   ],
   "source": [
    "# find all time gaps and plot\n",
    "df['Date'] = pd.to_datetime(df['Date'])\n",
    "df = df.sort_values(by='Date')\n",
    "df['Time_Gap'] = df['Date'].diff().dt.days\n",
    "\n",
    "df['Season'] = 0\n",
    "season = 2012\n",
    "# Iterate through the DataFrame to set the season based on time gaps\n",
    "for i in range(len(df)):\n",
    "    if df['Time_Gap'].iloc[i] > 80:\n",
    "        df.at[i, 'Season'] = season\n",
    "        season += 1\n",
    "    else:\n",
    "        df.at[i, 'Season'] = season\n",
    "\n",
    "df = df.drop(columns=['Time_Gap'])\n",
    "print(len(df))\n",
    "\n",
    "# rename Days-Rest-Home and Days-Rest-Away to Days-Rest and Days-Rest.1\n",
    "df = df.rename(columns={'Days-Rest-Home': 'Days-Rest', 'Days-Rest-Away': 'Days-Rest.1'})\n",
    "\n"
   ]
  },
  {
   "cell_type": "markdown",
   "metadata": {
    "collapsed": false
   },
   "source": [
    "# Feature Engineering"
   ]
  },
  {
   "cell_type": "code",
   "execution_count": 11,
   "metadata": {
    "ExecuteTime": {
     "end_time": "2024-07-04T15:38:51.924025Z",
     "start_time": "2024-07-04T15:38:51.620785Z"
    },
    "collapsed": false
   },
   "outputs": [
    {
     "name": "stderr",
     "output_type": "stream",
     "text": [
      "Calculating Elo ratings:   0%|          | 0/15115 [00:00<?, ?it/s]"
     ]
    },
    {
     "name": "stderr",
     "output_type": "stream",
     "text": [
      "Calculating Elo ratings: 100%|██████████| 15115/15115 [00:00<00:00, 32923.69it/s]\n",
      "Calculating historical stats: 100%|██████████| 15115/15115 [00:00<00:00, 17880.47it/s]\n"
     ]
    }
   ],
   "source": [
    "import pandas as pd\n",
    "import numpy as np\n",
    "from tqdm import tqdm\n",
    "\n",
    "def calculate_elo_chronologically(data, initial_elo=1500, k=20, home_advantage=100):\n",
    "    \"\"\"Calculate Elo ratings chronologically without looking ahead\"\"\"\n",
    "    data = data.sort_values('Date').copy()\n",
    "    \n",
    "    # Initialize Elo tracking\n",
    "    team_elos = {}\n",
    "    season_end_elos = {}\n",
    "    elo_history = []\n",
    "    \n",
    "    for idx, row in tqdm(data.iterrows(), total=len(data), desc=\"Calculating Elo ratings\"):\n",
    "        home_team = row['TEAM_NAME']\n",
    "        away_team = row['TEAM_NAME.1']\n",
    "        season = row['Season']\n",
    "        \n",
    "        # Initialize teams if not seen before\n",
    "        if home_team not in team_elos:\n",
    "            # Check if we have previous season data and it's not the first season\n",
    "            if season > min(data['Season']) and season in season_end_elos and home_team in season_end_elos[season-1]:\n",
    "                # Use 75% of last season's ending Elo + 25% of initial Elo\n",
    "                team_elos[home_team] = 0.75 * season_end_elos[season-1][home_team] + 0.25 * initial_elo\n",
    "            else:\n",
    "                team_elos[home_team] = initial_elo\n",
    "                \n",
    "        if away_team not in team_elos:\n",
    "            # Check if we have previous season data and it's not the first season\n",
    "            if season > min(data['Season']) and season in season_end_elos and away_team in season_end_elos[season-1]:\n",
    "                team_elos[away_team] = 0.75 * season_end_elos[season-1][away_team] + 0.25 * initial_elo\n",
    "            else:\n",
    "                team_elos[away_team] = initial_elo\n",
    "        \n",
    "        # Store pre-game Elos\n",
    "        home_elo = team_elos[home_team]\n",
    "        away_elo = team_elos[away_team]\n",
    "        elo_history.append((home_elo, away_elo))\n",
    "        \n",
    "        # Update Elos based on game result\n",
    "        home_win = row['Target']\n",
    "        \n",
    "        # Calculate expected scores\n",
    "        elo_diff = home_elo - away_elo + home_advantage\n",
    "        home_expected = 1 / (1 + 10 ** (-elo_diff / 400))\n",
    "        \n",
    "        # Update Elo ratings\n",
    "        home_new = home_elo + k * (home_win - home_expected)\n",
    "        away_new = away_elo + k * ((1 - home_win) - (1 - home_expected))\n",
    "        \n",
    "        team_elos[home_team] = home_new\n",
    "        team_elos[away_team] = away_new\n",
    "        \n",
    "        # Store season-end Elos\n",
    "        if season not in season_end_elos:\n",
    "            season_end_elos[season] = {}\n",
    "        season_end_elos[season][home_team] = home_new\n",
    "        season_end_elos[season][away_team] = away_new\n",
    "    \n",
    "    # Add Elo columns to dataframe\n",
    "    data['Elo_Team'] = [x[0] for x in elo_history]\n",
    "    data['Elo_Team.1'] = [x[1] for x in elo_history]\n",
    "    \n",
    "    return data\n",
    "\n",
    "# Rest of the code remains the same\n",
    "def calculate_historical_stats(data):\n",
    "    \"\"\"Calculate historical win percentages using only past games\"\"\"\n",
    "    data = data.sort_values('Date').copy()\n",
    "    \n",
    "    # Initialize tracking dictionaries\n",
    "    team_stats = {}\n",
    "    season_stats = {}\n",
    "    \n",
    "    # Columns to store results\n",
    "    data['home_win_pct'] = 0.0\n",
    "    data['away_win_pct'] = 0.0\n",
    "    data['total_games'] = 0\n",
    "    \n",
    "    for idx, row in tqdm(data.iterrows(), total=len(data), desc=\"Calculating historical stats\"):\n",
    "        home_team = row['TEAM_NAME']\n",
    "        away_team = row['TEAM_NAME.1']\n",
    "        season = row['Season']\n",
    "        \n",
    "        # Initialize season stats if needed\n",
    "        if season not in season_stats:\n",
    "            season_stats[season] = {}\n",
    "            \n",
    "        # Initialize team stats if needed\n",
    "        for team in [home_team, away_team]:\n",
    "            if team not in season_stats[season]:\n",
    "                season_stats[season][team] = {'wins': 0, 'losses': 0, 'games': 0}\n",
    "        \n",
    "        # Get current stats before updating\n",
    "        home_stats = season_stats[season][home_team]\n",
    "        away_stats = season_stats[season][away_team]\n",
    "        \n",
    "        # Store historical stats\n",
    "        data.at[idx, 'home_win_pct'] = home_stats['wins'] / max(home_stats['games'], 1)\n",
    "        data.at[idx, 'away_win_pct'] = away_stats['wins'] / max(away_stats['games'], 1)\n",
    "        data.at[idx, 'total_games'] = home_stats['games']\n",
    "        \n",
    "        # Update stats after game\n",
    "        game_result = row['Target']\n",
    "        if game_result == 1:  # Home team won\n",
    "            season_stats[season][home_team]['wins'] += 1\n",
    "            season_stats[season][away_team]['losses'] += 1\n",
    "        else:  # Away team won\n",
    "            season_stats[season][home_team]['losses'] += 1\n",
    "            season_stats[season][away_team]['wins'] += 1\n",
    "            \n",
    "        season_stats[season][home_team]['games'] += 1\n",
    "        season_stats[season][away_team]['games'] += 1\n",
    "    \n",
    "    return data\n",
    "\n",
    "def process_data_without_leakage(data):\n",
    "    \"\"\"Process the entire dataset without data leakage\"\"\"\n",
    "    # Sort data chronologically\n",
    "    data = data.sort_values('Date').copy()\n",
    "    \n",
    "    # Calculate Elo ratings\n",
    "    data = calculate_elo_chronologically(data)\n",
    "    \n",
    "    # Calculate historical statistics\n",
    "    data = calculate_historical_stats(data)\n",
    "    \n",
    "    return data\n",
    "\n",
    "data_processed = process_data_without_leakage(df)"
   ]
  },
  {
   "cell_type": "code",
   "execution_count": 13,
   "metadata": {
    "ExecuteTime": {
     "end_time": "2024-07-04T15:38:53.008631Z",
     "start_time": "2024-07-04T15:38:52.967414Z"
    },
    "collapsed": false
   },
   "outputs": [],
   "source": [
    "\n",
    "\n",
    "\n",
    "\n",
    "# save data\n",
    "df.to_parquet(\"/Users/adrian/Desktop/NBA_Machine_Learning/data/processed_dataset.parquet\", index=False)"
   ]
  },
  {
   "cell_type": "code",
   "execution_count": null,
   "metadata": {},
   "outputs": [],
   "source": []
  },
  {
   "cell_type": "code",
   "execution_count": null,
   "metadata": {},
   "outputs": [],
   "source": []
  }
 ],
 "metadata": {
  "kernelspec": {
   "display_name": "base",
   "language": "python",
   "name": "python3"
  },
  "language_info": {
   "codemirror_mode": {
    "name": "ipython",
    "version": 3
   },
   "file_extension": ".py",
   "mimetype": "text/x-python",
   "name": "python",
   "nbconvert_exporter": "python",
   "pygments_lexer": "ipython3",
   "version": "3.10.14"
  },
  "orig_nbformat": 4
 },
 "nbformat": 4,
 "nbformat_minor": 2
}
